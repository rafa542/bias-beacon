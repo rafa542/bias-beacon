{
 "cells": [
  {
   "cell_type": "code",
   "execution_count": 1,
   "metadata": {},
   "outputs": [
    {
     "name": "stderr",
     "output_type": "stream",
     "text": [
      "c:\\Users\\Yeshwanth Somu\\AppData\\Local\\Programs\\Python\\Python39\\lib\\site-packages\\tqdm\\auto.py:22: TqdmWarning: IProgress not found. Please update jupyter and ipywidgets. See https://ipywidgets.readthedocs.io/en/stable/user_install.html\n",
      "  from .autonotebook import tqdm as notebook_tqdm\n",
      "All model checkpoint layers were used when initializing TFDistilBertForSequenceClassification.\n",
      "\n",
      "All the layers of TFDistilBertForSequenceClassification were initialized from the model checkpoint at d4data/bias-detection-model.\n",
      "If your task is similar to the task the model of the checkpoint was trained on, you can already use TFDistilBertForSequenceClassification for predictions without further training.\n"
     ]
    }
   ],
   "source": [
    "import pandas as pd\n",
    "import numpy as np\n",
    "import os\n",
    "import subprocess\n",
    "from datasets.data_utils import MBIBDataLoader\n",
    "from Dbias.bias_classification import *\n",
    "\n",
    "\n",
    "# !pip3 install https://huggingface.co/d4data/en_pipeline/resolve/main/en_pipeline-any-py3-none-any.whl"
   ]
  },
  {
   "cell_type": "code",
   "execution_count": 2,
   "metadata": {},
   "outputs": [],
   "source": [
    "\n",
    "\n",
    "# print(\"------------Processing-datasets------------\")\n",
    "# datasets_path = './datasets'\n",
    "# data_dirs = [ name for name in os.listdir(datasets_path) if os.path.isdir(os.path.join(datasets_path, name))]\n",
    "# for d in data_dirs:\n",
    "#     if \"pycache\" in d or 'mbib' in d:\n",
    "#         continue\n",
    "#     subprocess.call(\"python \" + os.path.join(datasets_path,d,'process.py'),shell=True)\n",
    "# print(\"------------datasets-processed------------\")\n",
    "# print(\"------------creating-mbib------------\")\n",
    "# dl = MBIBDataLoader()\n",
    "# dl.create_all_categories()"
   ]
  },
  {
   "cell_type": "code",
   "execution_count": 3,
   "metadata": {},
   "outputs": [
    {
     "data": {
      "text/html": [
       "<div>\n",
       "<style scoped>\n",
       "    .dataframe tbody tr th:only-of-type {\n",
       "        vertical-align: middle;\n",
       "    }\n",
       "\n",
       "    .dataframe tbody tr th {\n",
       "        vertical-align: top;\n",
       "    }\n",
       "\n",
       "    .dataframe thead th {\n",
       "        text-align: right;\n",
       "    }\n",
       "</style>\n",
       "<table border=\"1\" class=\"dataframe\">\n",
       "  <thead>\n",
       "    <tr style=\"text-align: right;\">\n",
       "      <th></th>\n",
       "      <th>id</th>\n",
       "      <th>text</th>\n",
       "      <th>label</th>\n",
       "      <th>dataset_id</th>\n",
       "      <th>bias_type</th>\n",
       "      <th>biased</th>\n",
       "    </tr>\n",
       "  </thead>\n",
       "  <tbody>\n",
       "    <tr>\n",
       "      <th>0</th>\n",
       "      <td>072-9268</td>\n",
       "      <td>To vote in Mexico every eligible Mexican citiz...</td>\n",
       "      <td>0</td>\n",
       "      <td>72</td>\n",
       "      <td>Unbiased</td>\n",
       "      <td>False</td>\n",
       "    </tr>\n",
       "    <tr>\n",
       "      <th>1</th>\n",
       "      <td>072-6808</td>\n",
       "      <td>Marco Rubio made it clear Not only does he thi...</td>\n",
       "      <td>0</td>\n",
       "      <td>72</td>\n",
       "      <td>Unbiased</td>\n",
       "      <td>False</td>\n",
       "    </tr>\n",
       "    <tr>\n",
       "      <th>2</th>\n",
       "      <td>072-5150</td>\n",
       "      <td>Ben Carson is running for president to elimina...</td>\n",
       "      <td>0</td>\n",
       "      <td>72</td>\n",
       "      <td>Unbiased</td>\n",
       "      <td>False</td>\n",
       "    </tr>\n",
       "    <tr>\n",
       "      <th>3</th>\n",
       "      <td>072-11817</td>\n",
       "      <td>There are literally teachers now who are getti...</td>\n",
       "      <td>0</td>\n",
       "      <td>72</td>\n",
       "      <td>Unbiased</td>\n",
       "      <td>False</td>\n",
       "    </tr>\n",
       "    <tr>\n",
       "      <th>4</th>\n",
       "      <td>072-7176</td>\n",
       "      <td>Leticia Van de Putte voted to stop schools fro...</td>\n",
       "      <td>0</td>\n",
       "      <td>72</td>\n",
       "      <td>Unbiased</td>\n",
       "      <td>False</td>\n",
       "    </tr>\n",
       "  </tbody>\n",
       "</table>\n",
       "</div>"
      ],
      "text/plain": [
       "          id                                               text  label  \\\n",
       "0   072-9268  To vote in Mexico every eligible Mexican citiz...      0   \n",
       "1   072-6808  Marco Rubio made it clear Not only does he thi...      0   \n",
       "2   072-5150  Ben Carson is running for president to elimina...      0   \n",
       "3  072-11817  There are literally teachers now who are getti...      0   \n",
       "4   072-7176  Leticia Van de Putte voted to stop schools fro...      0   \n",
       "\n",
       "   dataset_id bias_type  biased  \n",
       "0          72  Unbiased   False  \n",
       "1          72  Unbiased   False  \n",
       "2          72  Unbiased   False  \n",
       "3          72  Unbiased   False  \n",
       "4          72  Unbiased   False  "
      ]
     },
     "execution_count": 3,
     "metadata": {},
     "output_type": "execute_result"
    }
   ],
   "source": [
    "file_bias_map = {\"cognitive-bias.csv\":\"Cognitive Bias\", \"fake-news.csv\": \"Fake News\", \"gender-bias.csv\": \"Gender Bias\", \"hate-speech.csv\": \"Hate Speech\",\n",
    "                \"linguistic-bias.csv\": \"Linguistic Bias\", \"political-bias.csv\": \"Political Bias\", \"racial-bias.csv\": \"Racial Bias\", \"text-level-bias.csv\": \"Text Level Bias\"}\n",
    "\n",
    "full_data = []\n",
    "for i in os.listdir(\"datasets/mbib-aggregated/\"):\n",
    "    data = pd.read_csv(\"datasets/mbib-aggregated/\"+i)\n",
    "    data['bias_type'] = file_bias_map[i]\n",
    "    full_data.append(data)\n",
    "\n",
    "full_data = pd.concat(full_data)\n",
    "full_data.loc[~full_data.label.astype(bool), \"bias_type\"] = \"Unbiased\" # converting all non-labeled pieces of text to \"Unbiased\"\n",
    "\n",
    "full_data = full_data.reset_index().drop(columns=\"index\")\n",
    "\n",
    "full_data[\"biased\"] = full_data[\"bias_type\"] != \"Unbiased\"\n",
    "full_data.head()"
   ]
  },
  {
   "cell_type": "code",
   "execution_count": 10,
   "metadata": {},
   "outputs": [],
   "source": [
    "import sys\n",
    "def bias_classifier(x):\n",
    "    try:\n",
    "        return classifier(x)\n",
    "    except:\n",
    "        return [{\"label\":\"Error\"}]\n",
    "\n",
    "def repeat_classifier_on_subset(full_data = full_data, size=.2):\n",
    "\n",
    "    # getting sample of full_data with representative proportions of the \"biased\" column\n",
    "    sample_size = size * len(full_data)  # 30% of the original dataset size\n",
    "    mini = full_data.groupby(\"biased\").sample(int(sample_size / 2), replace=True)\n",
    "\n",
    "    # running the bias_classifier() on text in this sample, since it takes 500+ mins to run on the entire full_data df\n",
    "    mini[\"output\"] = mini[\"text\"].agg(lambda x: bias_classifier(x))\n",
    "    mini[\"pred_label\"] = mini[\"output\"].apply(lambda x: x[0][\"label\"])\n",
    "    # mini[\"pred_score\"] = mini[\"output\"].apply(lambda x: x[0][\"score\"])\n",
    "    mini[\"pred_label\"] = mini[\"pred_label\"] == \"Biased\"\n",
    "    conf_matrix = pd.crosstab(mini[\"pred_label\"], mini[\"biased\"])\n",
    "\n",
    "    return mini, conf_matrix"
   ]
  },
  {
   "cell_type": "code",
   "execution_count": 11,
   "metadata": {},
   "outputs": [],
   "source": [
    "sample_size = .2 * len(full_data) \n",
    "mini = full_data.groupby(\"biased\").sample(int(sample_size / 2), replace=True)\n",
    "\n",
    "# running the bias_classifier() on text in this sample, since it takes 500+ mins to run on the entire full_data df\n",
    "mini[\"output\"] = mini[\"text\"].agg(lambda x: bias_classifier(x))\n",
    "mini[\"pred_label\"] = mini[\"output\"].apply(lambda x: x[0][\"label\"])\n",
    "# mini[\"pred_score\"] = mini[\"output\"].apply(lambda x: x[0][\"score\"])\n",
    "mini[\"pred_label\"] = mini[\"pred_label\"] == \"Biased\"\n",
    "conf_matrix = pd.crosstab(mini[\"pred_label\"], mini[\"biased\"])"
   ]
  },
  {
   "cell_type": "code",
   "execution_count": 12,
   "metadata": {},
   "outputs": [
    {
     "data": {
      "text/html": [
       "<div>\n",
       "<style scoped>\n",
       "    .dataframe tbody tr th:only-of-type {\n",
       "        vertical-align: middle;\n",
       "    }\n",
       "\n",
       "    .dataframe tbody tr th {\n",
       "        vertical-align: top;\n",
       "    }\n",
       "\n",
       "    .dataframe thead th {\n",
       "        text-align: right;\n",
       "    }\n",
       "</style>\n",
       "<table border=\"1\" class=\"dataframe\">\n",
       "  <thead>\n",
       "    <tr style=\"text-align: right;\">\n",
       "      <th>biased</th>\n",
       "      <th>False</th>\n",
       "      <th>True</th>\n",
       "    </tr>\n",
       "    <tr>\n",
       "      <th>pred_label</th>\n",
       "      <th></th>\n",
       "      <th></th>\n",
       "    </tr>\n",
       "  </thead>\n",
       "  <tbody>\n",
       "    <tr>\n",
       "      <th>False</th>\n",
       "      <td>22828</td>\n",
       "      <td>19491</td>\n",
       "    </tr>\n",
       "    <tr>\n",
       "      <th>True</th>\n",
       "      <td>26866</td>\n",
       "      <td>30203</td>\n",
       "    </tr>\n",
       "  </tbody>\n",
       "</table>\n",
       "</div>"
      ],
      "text/plain": [
       "biased      False  True \n",
       "pred_label              \n",
       "False       22828  19491\n",
       "True        26866  30203"
      ]
     },
     "execution_count": 12,
     "metadata": {},
     "output_type": "execute_result"
    }
   ],
   "source": [
    "conf_matrix"
   ]
  },
  {
   "cell_type": "code",
   "execution_count": 17,
   "metadata": {},
   "outputs": [
    {
     "data": {
      "text/html": [
       "<div>\n",
       "<style scoped>\n",
       "    .dataframe tbody tr th:only-of-type {\n",
       "        vertical-align: middle;\n",
       "    }\n",
       "\n",
       "    .dataframe tbody tr th {\n",
       "        vertical-align: top;\n",
       "    }\n",
       "\n",
       "    .dataframe thead th {\n",
       "        text-align: right;\n",
       "    }\n",
       "</style>\n",
       "<table border=\"1\" class=\"dataframe\">\n",
       "  <thead>\n",
       "    <tr style=\"text-align: right;\">\n",
       "      <th>biased</th>\n",
       "      <th>False</th>\n",
       "      <th>True</th>\n",
       "    </tr>\n",
       "    <tr>\n",
       "      <th>pred_label</th>\n",
       "      <th></th>\n",
       "      <th></th>\n",
       "    </tr>\n",
       "  </thead>\n",
       "  <tbody>\n",
       "    <tr>\n",
       "      <th>False</th>\n",
       "      <td>0.539427</td>\n",
       "      <td>0.460573</td>\n",
       "    </tr>\n",
       "    <tr>\n",
       "      <th>True</th>\n",
       "      <td>0.470763</td>\n",
       "      <td>0.529237</td>\n",
       "    </tr>\n",
       "  </tbody>\n",
       "</table>\n",
       "</div>"
      ],
      "text/plain": [
       "biased         False     True \n",
       "pred_label                    \n",
       "False       0.539427  0.460573\n",
       "True        0.470763  0.529237"
      ]
     },
     "execution_count": 17,
     "metadata": {},
     "output_type": "execute_result"
    }
   ],
   "source": [
    "pd.crosstab(mini[\"pred_label\"], mini[\"biased\"], normalize=\"index\")"
   ]
  },
  {
   "cell_type": "code",
   "execution_count": 14,
   "metadata": {},
   "outputs": [
    {
     "name": "stdout",
     "output_type": "stream",
     "text": [
      "CPU times: total: 8h 3min 44s\n",
      "Wall time: 2h 48min 46s\n"
     ]
    },
    {
     "data": {
      "text/html": [
       "<div>\n",
       "<style scoped>\n",
       "    .dataframe tbody tr th:only-of-type {\n",
       "        vertical-align: middle;\n",
       "    }\n",
       "\n",
       "    .dataframe tbody tr th {\n",
       "        vertical-align: top;\n",
       "    }\n",
       "\n",
       "    .dataframe thead th {\n",
       "        text-align: right;\n",
       "    }\n",
       "</style>\n",
       "<table border=\"1\" class=\"dataframe\">\n",
       "  <thead>\n",
       "    <tr style=\"text-align: right;\">\n",
       "      <th>biased</th>\n",
       "      <th>False</th>\n",
       "      <th>True</th>\n",
       "    </tr>\n",
       "    <tr>\n",
       "      <th>pred_label</th>\n",
       "      <th></th>\n",
       "      <th></th>\n",
       "    </tr>\n",
       "  </thead>\n",
       "  <tbody>\n",
       "    <tr>\n",
       "      <th>False</th>\n",
       "      <td>22943</td>\n",
       "      <td>19325</td>\n",
       "    </tr>\n",
       "    <tr>\n",
       "      <th>True</th>\n",
       "      <td>26751</td>\n",
       "      <td>30369</td>\n",
       "    </tr>\n",
       "  </tbody>\n",
       "</table>\n",
       "</div>"
      ],
      "text/plain": [
       "biased      False  True \n",
       "pred_label              \n",
       "False       22943  19325\n",
       "True        26751  30369"
      ]
     },
     "execution_count": 14,
     "metadata": {},
     "output_type": "execute_result"
    }
   ],
   "source": [
    "%%time\n",
    "sample_size = .2 * len(full_data) \n",
    "mini2 = full_data.groupby(\"biased\").sample(int(sample_size / 2), replace=True)\n",
    "\n",
    "# running the bias_classifier() on text in this sample, since it takes 500+ mins to run on the entire full_data df\n",
    "mini2[\"output\"] = mini2[\"text\"].agg(lambda x: bias_classifier(x))\n",
    "mini2[\"pred_label\"] = mini2[\"output\"].apply(lambda x: x[0][\"label\"])\n",
    "mini2[\"pred_label\"] = mini2[\"pred_label\"] == \"Biased\"\n",
    "conf_matrix2 = pd.crosstab(mini2[\"pred_label\"], mini2[\"biased\"])\n",
    "conf_matrix2"
   ]
  },
  {
   "cell_type": "code",
   "execution_count": 18,
   "metadata": {},
   "outputs": [
    {
     "data": {
      "text/html": [
       "<div>\n",
       "<style scoped>\n",
       "    .dataframe tbody tr th:only-of-type {\n",
       "        vertical-align: middle;\n",
       "    }\n",
       "\n",
       "    .dataframe tbody tr th {\n",
       "        vertical-align: top;\n",
       "    }\n",
       "\n",
       "    .dataframe thead th {\n",
       "        text-align: right;\n",
       "    }\n",
       "</style>\n",
       "<table border=\"1\" class=\"dataframe\">\n",
       "  <thead>\n",
       "    <tr style=\"text-align: right;\">\n",
       "      <th>biased</th>\n",
       "      <th>False</th>\n",
       "      <th>True</th>\n",
       "    </tr>\n",
       "    <tr>\n",
       "      <th>pred_label</th>\n",
       "      <th></th>\n",
       "      <th></th>\n",
       "    </tr>\n",
       "  </thead>\n",
       "  <tbody>\n",
       "    <tr>\n",
       "      <th>False</th>\n",
       "      <td>0.542798</td>\n",
       "      <td>0.457202</td>\n",
       "    </tr>\n",
       "    <tr>\n",
       "      <th>True</th>\n",
       "      <td>0.468330</td>\n",
       "      <td>0.531670</td>\n",
       "    </tr>\n",
       "  </tbody>\n",
       "</table>\n",
       "</div>"
      ],
      "text/plain": [
       "biased         False     True \n",
       "pred_label                    \n",
       "False       0.542798  0.457202\n",
       "True        0.468330  0.531670"
      ]
     },
     "execution_count": 18,
     "metadata": {},
     "output_type": "execute_result"
    }
   ],
   "source": [
    "pd.crosstab(mini2[\"pred_label\"], mini2[\"biased\"], normalize=\"index\")"
   ]
  },
  {
   "cell_type": "code",
   "execution_count": null,
   "metadata": {},
   "outputs": [],
   "source": []
  },
  {
   "cell_type": "code",
   "execution_count": 6,
   "metadata": {},
   "outputs": [
    {
     "data": {
      "image/png": "[encoded data removed]",
      "text/plain": [
       "<Figure size 1800x864 with 1 Axes>"
      ]
     },
     "metadata": {
      "needs_background": "light"
     },
     "output_type": "display_data"
    }
   ],
   "source": [
    "import matplotlib.pyplot as plt\n",
    "plt.rcParams.update({'font.size': 20})\n",
    "\n",
    "colors = ['#1f77b4', '#ff7f0e', '#2ca02c', '#d62728', '#9467bd',\n",
    "          '#8c564b', '#e377c2', '#7f7f7f', '#bcbd22', '#17becf']\n",
    "plt.figure(figsize=(25,12))\n",
    "ax = full_data.bias_type.value_counts().plot(kind=\"bar\", title=\"Article Distribution by Bias\", color=colors, ylabel=\"Count\", xlabel=\"Type of Bias\")\n",
    "ax.bar_label(ax.containers[0], label_type='edge')\n",
    "plt.tight_layout()"
   ]
  },
  {
   "cell_type": "code",
   "execution_count": null,
   "metadata": {},
   "outputs": [],
   "source": []
  },
  {
   "cell_type": "code",
   "execution_count": null,
   "metadata": {},
   "outputs": [],
   "source": []
  }
 ],
 "metadata": {
  "kernelspec": {
   "display_name": "Python 3",
   "language": "python",
   "name": "python3"
  },
  "language_info": {
   "codemirror_mode": {
    "name": "ipython",
    "version": 3
   },
   "file_extension": ".py",
   "mimetype": "text/x-python",
   "name": "python",
   "nbconvert_exporter": "python",
   "pygments_lexer": "ipython3",
   "version": "3.9.5"
  }
 },
 "nbformat": 4,
 "nbformat_minor": 2
}
