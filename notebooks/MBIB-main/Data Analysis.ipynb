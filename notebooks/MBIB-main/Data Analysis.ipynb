{
 "cells": [
  {
   "cell_type": "code",
   "execution_count": 1,
   "metadata": {},
   "outputs": [
    {
     "name": "stderr",
     "output_type": "stream",
     "text": [
      "c:\\Users\\Yeshwanth Somu\\AppData\\Local\\Programs\\Python\\Python39\\lib\\site-packages\\tqdm\\auto.py:22: TqdmWarning: IProgress not found. Please update jupyter and ipywidgets. See https://ipywidgets.readthedocs.io/en/stable/user_install.html\n",
      "  from .autonotebook import tqdm as notebook_tqdm\n"
     ]
    }
   ],
   "source": [
    "import pandas as pd\n",
    "import numpy as np\n",
    "import os\n",
    "import subprocess\n",
    "from datasets.data_utils import MBIBDataLoader"
   ]
  },
  {
   "cell_type": "code",
   "execution_count": 5,
   "metadata": {},
   "outputs": [
    {
     "name": "stdout",
     "output_type": "stream",
     "text": [
      "------------Processing-datasets------------\n",
      "------------datasets-processed------------\n",
      "------------creating-mbib------------\n",
      "Skipping 049\n",
      "Skipping 066\n",
      "Skipping 040\n",
      "Skipping 087\n",
      "Skipping 105\n",
      "Skipping 025\n",
      "Skipping 049\n",
      "Skipping 066\n"
     ]
    }
   ],
   "source": [
    "\n",
    "\n",
    "print(\"------------Processing-datasets------------\")\n",
    "datasets_path = './datasets'\n",
    "data_dirs = [ name for name in os.listdir(datasets_path) if os.path.isdir(os.path.join(datasets_path, name))]\n",
    "for d in data_dirs:\n",
    "    if \"pycache\" in d or 'mbib' in d:\n",
    "        continue\n",
    "    subprocess.call(\"python \" + os.path.join(datasets_path,d,'process.py'),shell=True)\n",
    "print(\"------------datasets-processed------------\")\n",
    "print(\"------------creating-mbib------------\")\n",
    "dl = MBIBDataLoader()\n",
    "dl.create_all_categories()"
   ]
  },
  {
   "cell_type": "code",
   "execution_count": 2,
   "metadata": {},
   "outputs": [
    {
     "data": {
      "text/html": [
       "<div>\n",
       "<style scoped>\n",
       "    .dataframe tbody tr th:only-of-type {\n",
       "        vertical-align: middle;\n",
       "    }\n",
       "\n",
       "    .dataframe tbody tr th {\n",
       "        vertical-align: top;\n",
       "    }\n",
       "\n",
       "    .dataframe thead th {\n",
       "        text-align: right;\n",
       "    }\n",
       "</style>\n",
       "<table border=\"1\" class=\"dataframe\">\n",
       "  <thead>\n",
       "    <tr style=\"text-align: right;\">\n",
       "      <th></th>\n",
       "      <th>id</th>\n",
       "      <th>text</th>\n",
       "      <th>label</th>\n",
       "      <th>dataset_id</th>\n",
       "      <th>bias_type</th>\n",
       "    </tr>\n",
       "  </thead>\n",
       "  <tbody>\n",
       "    <tr>\n",
       "      <th>0</th>\n",
       "      <td>072-9268</td>\n",
       "      <td>To vote in Mexico every eligible Mexican citiz...</td>\n",
       "      <td>0</td>\n",
       "      <td>72</td>\n",
       "      <td>Unbiased</td>\n",
       "    </tr>\n",
       "    <tr>\n",
       "      <th>1</th>\n",
       "      <td>072-6808</td>\n",
       "      <td>Marco Rubio made it clear Not only does he thi...</td>\n",
       "      <td>0</td>\n",
       "      <td>72</td>\n",
       "      <td>Unbiased</td>\n",
       "    </tr>\n",
       "    <tr>\n",
       "      <th>2</th>\n",
       "      <td>072-5150</td>\n",
       "      <td>Ben Carson is running for president to elimina...</td>\n",
       "      <td>0</td>\n",
       "      <td>72</td>\n",
       "      <td>Unbiased</td>\n",
       "    </tr>\n",
       "    <tr>\n",
       "      <th>3</th>\n",
       "      <td>072-11817</td>\n",
       "      <td>There are literally teachers now who are getti...</td>\n",
       "      <td>0</td>\n",
       "      <td>72</td>\n",
       "      <td>Unbiased</td>\n",
       "    </tr>\n",
       "    <tr>\n",
       "      <th>4</th>\n",
       "      <td>072-7176</td>\n",
       "      <td>Leticia Van de Putte voted to stop schools fro...</td>\n",
       "      <td>0</td>\n",
       "      <td>72</td>\n",
       "      <td>Unbiased</td>\n",
       "    </tr>\n",
       "    <tr>\n",
       "      <th>...</th>\n",
       "      <td>...</td>\n",
       "      <td>...</td>\n",
       "      <td>...</td>\n",
       "      <td>...</td>\n",
       "      <td>...</td>\n",
       "    </tr>\n",
       "    <tr>\n",
       "      <th>9013</th>\n",
       "      <td>076-27367</td>\n",
       "      <td>Social media I once naively thought it would u...</td>\n",
       "      <td>1</td>\n",
       "      <td>76</td>\n",
       "      <td>Text Level Bias</td>\n",
       "    </tr>\n",
       "    <tr>\n",
       "      <th>9014</th>\n",
       "      <td>076-19637</td>\n",
       "      <td>I m guessing LGBTQ POC cissies are SOL</td>\n",
       "      <td>1</td>\n",
       "      <td>76</td>\n",
       "      <td>Text Level Bias</td>\n",
       "    </tr>\n",
       "    <tr>\n",
       "      <th>9015</th>\n",
       "      <td>076-24159</td>\n",
       "      <td>People like Eddie are why I sometimes wish thi...</td>\n",
       "      <td>1</td>\n",
       "      <td>76</td>\n",
       "      <td>Text Level Bias</td>\n",
       "    </tr>\n",
       "    <tr>\n",
       "      <th>9016</th>\n",
       "      <td>076-25093</td>\n",
       "      <td>I m Mexican you absolute moronic NPC HAHAHAHAH...</td>\n",
       "      <td>1</td>\n",
       "      <td>76</td>\n",
       "      <td>Text Level Bias</td>\n",
       "    </tr>\n",
       "    <tr>\n",
       "      <th>9017</th>\n",
       "      <td>076-21156</td>\n",
       "      <td>You fucking mud people</td>\n",
       "      <td>1</td>\n",
       "      <td>76</td>\n",
       "      <td>Text Level Bias</td>\n",
       "    </tr>\n",
       "  </tbody>\n",
       "</table>\n",
       "<p>496942 rows × 5 columns</p>\n",
       "</div>"
      ],
      "text/plain": [
       "             id                                               text  label  \\\n",
       "0      072-9268  To vote in Mexico every eligible Mexican citiz...      0   \n",
       "1      072-6808  Marco Rubio made it clear Not only does he thi...      0   \n",
       "2      072-5150  Ben Carson is running for president to elimina...      0   \n",
       "3     072-11817  There are literally teachers now who are getti...      0   \n",
       "4      072-7176  Leticia Van de Putte voted to stop schools fro...      0   \n",
       "...         ...                                                ...    ...   \n",
       "9013  076-27367  Social media I once naively thought it would u...      1   \n",
       "9014  076-19637            I m guessing LGBTQ POC cissies are SOL       1   \n",
       "9015  076-24159  People like Eddie are why I sometimes wish thi...      1   \n",
       "9016  076-25093  I m Mexican you absolute moronic NPC HAHAHAHAH...      1   \n",
       "9017  076-21156                            You fucking mud people       1   \n",
       "\n",
       "      dataset_id        bias_type  \n",
       "0             72         Unbiased  \n",
       "1             72         Unbiased  \n",
       "2             72         Unbiased  \n",
       "3             72         Unbiased  \n",
       "4             72         Unbiased  \n",
       "...          ...              ...  \n",
       "9013          76  Text Level Bias  \n",
       "9014          76  Text Level Bias  \n",
       "9015          76  Text Level Bias  \n",
       "9016          76  Text Level Bias  \n",
       "9017          76  Text Level Bias  \n",
       "\n",
       "[496942 rows x 5 columns]"
      ]
     },
     "execution_count": 2,
     "metadata": {},
     "output_type": "execute_result"
    }
   ],
   "source": [
    "file_bias_map = {\"cognitive-bias.csv\":\"Cognitive Bias\", \"fake-news.csv\": \"Fake News\", \"gender-bias.csv\": \"Gender Bias\", \"hate-speech.csv\": \"Hate Speech\",\n",
    "                \"linguistic-bias.csv\": \"Linguistic Bias\", \"political-bias.csv\": \"Political Bias\", \"racial-bias.csv\": \"Racial Bias\", \"text-level-bias.csv\": \"Text Level Bias\"}\n",
    "\n",
    "full_data = []\n",
    "for i in os.listdir(\"datasets/mbib-aggregated/\"):\n",
    "    data = pd.read_csv(\"datasets/mbib-aggregated/\"+i)\n",
    "    data['bias_type'] = file_bias_map[i]\n",
    "    full_data.append(data)\n",
    "\n",
    "full_data = pd.concat(full_data)\n",
    "full_data.loc[~full_data.label.astype(bool), \"bias_type\"] = \"Unbiased\" # converting all non-labeled pieces of text to \"Unbiased\"\n",
    "\n",
    "full_data"
   ]
  },
  {
   "cell_type": "code",
   "execution_count": 3,
   "metadata": {},
   "outputs": [
    {
     "data": {
      "text/plain": [
       "Unbiased           248471\n",
       "Linguistic Bias    200931\n",
       "Hate Speech         12498\n",
       "Gender Bias          8970\n",
       "Political Bias       8852\n",
       "Racial Bias          4894\n",
       "Text Level Bias      4509\n",
       "Fake News            4271\n",
       "Cognitive Bias       3546\n",
       "Name: bias_type, dtype: int64"
      ]
     },
     "execution_count": 3,
     "metadata": {},
     "output_type": "execute_result"
    }
   ],
   "source": [
    "full_data[\"bias_type\"].value_counts()"
   ]
  },
  {
   "cell_type": "code",
   "execution_count": 8,
   "metadata": {},
   "outputs": [
    {
     "data": {
      "text/plain": [
       "<Axes: title={'center': 'Breakdown of text by Bias Type'}>"
      ]
     },
     "execution_count": 8,
     "metadata": {},
     "output_type": "execute_result"
    },
    {
     "data": {
      "image/png": "[encoded data removed]",
      "text/plain": [
       "<Figure size 432x288 with 1 Axes>"
      ]
     },
     "metadata": {
      "needs_background": "light"
     },
     "output_type": "display_data"
    }
   ],
   "source": [
    "full_data[\"bias_type\"].value_counts().plot(kind=\"bar\", title = \"Breakdown of text by Bias Type\")"
   ]
  },
  {
   "cell_type": "code",
   "execution_count": 9,
   "metadata": {},
   "outputs": [
    {
     "data": {
      "image/png": "[encoded data removed]",
      "text/plain": [
       "<Figure size 1800x864 with 1 Axes>"
      ]
     },
     "metadata": {
      "needs_background": "light"
     },
     "output_type": "display_data"
    }
   ],
   "source": [
    "import matplotlib.pyplot as plt\n",
    "\n",
    "colors = ['#1f77b4', '#ff7f0e', '#2ca02c', '#d62728', '#9467bd',\n",
    "          '#8c564b', '#e377c2', '#7f7f7f', '#bcbd22', '#17becf']\n",
    "plt.figure(figsize=(25,12))\n",
    "ax = full_data.bias_type.value_counts().plot(kind=\"bar\", title=\"Article Distribution by Bias\", color=colors, ylabel=\"Count\", xlabel=\"Type of Bias\")\n",
    "ax.bar_label(ax.containers[0], label_type='edge')\n",
    "plt.tight_layout()"
   ]
  },
  {
   "cell_type": "code",
   "execution_count": null,
   "metadata": {},
   "outputs": [],
   "source": []
  },
  {
   "cell_type": "code",
   "execution_count": null,
   "metadata": {},
   "outputs": [],
   "source": []
  }
 ],
 "metadata": {
  "kernelspec": {
   "display_name": "Python 3",
   "language": "python",
   "name": "python3"
  },
  "language_info": {
   "codemirror_mode": {
    "name": "ipython",
    "version": 3
   },
   "file_extension": ".py",
   "mimetype": "text/x-python",
   "name": "python",
   "nbconvert_exporter": "python",
   "pygments_lexer": "ipython3",
   "version": "3.9.5"
  }
 },
 "nbformat": 4,
 "nbformat_minor": 2
}
